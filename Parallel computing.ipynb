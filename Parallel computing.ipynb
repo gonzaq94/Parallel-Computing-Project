{
 "cells": [
  {
   "cell_type": "code",
   "execution_count": 4,
   "metadata": {},
   "outputs": [
    {
     "name": "stdout",
     "output_type": "stream",
     "text": [
      "\u001b[32m\u001b[1m Resolving\u001b[22m\u001b[39m package versions...\n",
      "\u001b[32m\u001b[1m  Updating\u001b[22m\u001b[39m `~/.julia/environments/v1.2/Project.toml`\n",
      "\u001b[90m [no changes]\u001b[39m\n",
      "\u001b[32m\u001b[1m  Updating\u001b[22m\u001b[39m `~/.julia/environments/v1.2/Manifest.toml`\n",
      "\u001b[90m [no changes]\u001b[39m\n",
      "\u001b[32m\u001b[1m Resolving\u001b[22m\u001b[39m package versions...\n",
      "\u001b[32m\u001b[1m  Updating\u001b[22m\u001b[39m `~/.julia/environments/v1.2/Project.toml`\n",
      "\u001b[90m [no changes]\u001b[39m\n",
      "\u001b[32m\u001b[1m  Updating\u001b[22m\u001b[39m `~/.julia/environments/v1.2/Manifest.toml`\n",
      "\u001b[90m [no changes]\u001b[39m\n"
     ]
    },
    {
     "name": "stderr",
     "output_type": "stream",
     "text": [
      "┌ Info: Precompiling MAT [23992714-dd62-5051-b70f-ba57cb901cac]\n",
      "└ @ Base loading.jl:1242\n",
      "ERROR: LoadError: HDF5 not installed properly, run Pkg.build(\"HDF5\"), restart Julia and try again\n",
      "Stacktrace:\n",
      " [1] error(::String) at ./error.jl:33\n",
      " [2] top-level scope at /homes/g18quint/.julia/packages/HDF5/Zh9on/src/HDF5.jl:32\n",
      " [3] include at ./boot.jl:328 [inlined]\n",
      " [4] include_relative(::Module, ::String) at ./loading.jl:1094\n",
      " [5] include(::Module, ::String) at ./Base.jl:31\n",
      " [6] top-level scope at none:2\n",
      " [7] eval at ./boot.jl:330 [inlined]\n",
      " [8] eval(::Expr) at ./client.jl:432\n",
      " [9] top-level scope at ./none:3\n",
      "in expression starting at /homes/g18quint/.julia/packages/HDF5/Zh9on/src/HDF5.jl:31\n",
      "ERROR: LoadError: Failed to precompile HDF5 [f67ccb44-e63f-5c2f-98bd-6dc0ccc4ba2f] to /homes/g18quint/.julia/compiled/v1.2/HDF5/L7Dga.ji.\n",
      "Stacktrace:\n",
      " [1] error(::String) at ./error.jl:33\n",
      " [2] compilecache(::Base.PkgId, ::String) at ./loading.jl:1253\n",
      " [3] _require(::Base.PkgId) at ./loading.jl:1013\n",
      " [4] require(::Base.PkgId) at ./loading.jl:911\n",
      " [5] require(::Module, ::Symbol) at ./loading.jl:906\n",
      " [6] include at ./boot.jl:328 [inlined]\n",
      " [7] include_relative(::Module, ::String) at ./loading.jl:1094\n",
      " [8] include(::Module, ::String) at ./Base.jl:31\n",
      " [9] top-level scope at none:2\n",
      " [10] eval at ./boot.jl:330 [inlined]\n",
      " [11] eval(::Expr) at ./client.jl:432\n",
      " [12] top-level scope at ./none:3\n",
      "in expression starting at /homes/g18quint/.julia/packages/MAT/XPntV/src/MAT.jl:27\n"
     ]
    },
    {
     "ename": "ErrorException",
     "evalue": "Failed to precompile MAT [23992714-dd62-5051-b70f-ba57cb901cac] to /homes/g18quint/.julia/compiled/v1.2/MAT/3FHIv.ji.",
     "output_type": "error",
     "traceback": [
      "Failed to precompile MAT [23992714-dd62-5051-b70f-ba57cb901cac] to /homes/g18quint/.julia/compiled/v1.2/MAT/3FHIv.ji.",
      "",
      "Stacktrace:",
      " [1] error(::String) at ./error.jl:33",
      " [2] compilecache(::Base.PkgId, ::String) at ./loading.jl:1253",
      " [3] _require(::Base.PkgId) at ./loading.jl:1013",
      " [4] require(::Base.PkgId) at ./loading.jl:911",
      " [5] require(::Module, ::Symbol) at ./loading.jl:906",
      " [6] top-level scope at In[4]:4"
     ]
    }
   ],
   "source": [
    "using Pkg\n",
    "Pkg.add(\"Images\")\n",
    "Pkg.add(\"MAT\")\n",
    "\n",
    "using MAT\n",
    "using Plots\n",
    "using Images\n",
    "\n",
    "\n",
    "pyplot()\n",
    "\n",
    "file = matopen(\"project_data.mat\")\n",
    "img = read(file, \"im\")\n",
    "sources = read(file,\"sources\")\n",
    "rgb = read(file,\"rgb\")\n",
    "close(file)"
   ]
  },
  {
   "cell_type": "code",
   "execution_count": null,
   "metadata": {},
   "outputs": [
    {
     "name": "stderr",
     "output_type": "stream",
     "text": [
      "┌ Info: Precompiling Plots [91a5bcdd-55d7-5caf-9e0b-520d859cae80]\n",
      "└ @ Base loading.jl:1242\n",
      "┌ Warning: Module JSON with build ID 8416509577435 is missing from the cache.\n",
      "│ This may mean JSON [682c06a0-de6a-54ab-a142-c8b1cf79cde6] does not support precompilation but is imported by a module that does.\n",
      "└ @ Base loading.jl:1000\n",
      "┌ Info: Skipping precompilation since __precompile__(false). Importing Plots [91a5bcdd-55d7-5caf-9e0b-520d859cae80].\n",
      "└ @ Base loading.jl:1017\n",
      "┌ Info: Precompiling Images [916415d5-f1e6-5110-898d-aaa5f9f070e0]\n",
      "└ @ Base loading.jl:1242\n"
     ]
    }
   ],
   "source": [
    "#using MAT\n",
    "using Plots\n",
    "using Images\n",
    "\n",
    "pyplot()\n",
    "\n",
    "file = matopen(\"project_data.mat\")\n",
    "img = read(file, \"im\")\n",
    "sources = read(file,\"sources\")\n",
    "rgb = read(file,\"rgb\")\n",
    "close(file)"
   ]
  },
  {
   "cell_type": "code",
   "execution_count": 5,
   "metadata": {},
   "outputs": [
    {
     "name": "stdout",
     "output_type": "stream",
     "text": [
      "\u001b[32m\u001b[1m Resolving\u001b[22m\u001b[39m package versions...\n",
      "\u001b[32m\u001b[1m  Updating\u001b[22m\u001b[39m `~/.julia/environments/v1.2/Project.toml`\n",
      " \u001b[90m [f67ccb44]\u001b[39m\u001b[92m + HDF5 v0.12.5\u001b[39m\n",
      "\u001b[32m\u001b[1m  Updating\u001b[22m\u001b[39m `~/.julia/environments/v1.2/Manifest.toml`\n",
      "\u001b[90m [no changes]\u001b[39m\n"
     ]
    }
   ],
   "source": [
    "using Pkg\n",
    "Pkg.add(\"HDF5\")"
   ]
  },
  {
   "cell_type": "code",
   "execution_count": null,
   "metadata": {},
   "outputs": [],
   "source": [
    "# visualize data in rgb (using bands 67,109,141 as th RGB channels)\n",
    "p1 = colorview(RGB,permutedims(rgb,(3,1,2))) # convert 3d array to the image format used by julia"
   ]
  },
  {
   "cell_type": "code",
   "execution_count": null,
   "metadata": {},
   "outputs": [],
   "source": [
    "#visualize a spectral band on its own\n",
    "p2 = heatmap(img[:,:,150],aspect_ratio=1, yflip = true,c=:ice)"
   ]
  },
  {
   "cell_type": "code",
   "execution_count": null,
   "metadata": {},
   "outputs": [],
   "source": [
    "# visualize the endmembers to be used\n",
    "\n",
    "plot(sources[:,1],label = \"gravel\")\n",
    "plot!(sources[:,2],label = \"grass\")\n",
    "plot!(sources[:,3],label = \"soil\")\n",
    "plot!(sources[:,4],label = \"trees\")\n",
    "xlabel!(\"Spectral band\")\n",
    "ylabel!(\"Reflectance value\")"
   ]
  },
  {
   "cell_type": "markdown",
   "metadata": {},
   "source": [
    "# Unmixing the image\n",
    "\n",
    "The model we are using to decompose the image into the sum of the contributions of the endmembers is:\n",
    "\n",
    "\\begin{equation*}\n",
    "\\mathbf{X} = \\mathbf{S}\\mathbf{A} + \\mathbf{E} \n",
    "\\end{equation*}\n",
    "\n",
    " $\\mathbf{X}\\in \\mathbb{R}^{L\\times N}$ : data matrix\n",
    " \n",
    " $\\mathbf{S}\\in \\mathbb{R}^{L\\times P}$ : endmember matrix\n",
    " \n",
    " $\\mathbf{A}\\in \\mathbb{R}^{P\\times N}$ : abundance matrix\n",
    " \n",
    " $\\mathbf{E}\\in \\mathbb{R}^{L\\times N}$ : additive noise matrix\n",
    " \n",
    " where $L$ is the number of spectral bands, $P$ is the number of materials, and $N$ is the number of pixels\n",
    " \n",
    " The hyperspectral image is represented as a matrix with $N$ pixels, so the first thing to do is to reshape the image to a big matrix.\n",
    "\n",
    "We can try and estimate the abundance matrix using a least squares formulation:\n",
    "\n",
    "\\begin{equation*}\n",
    "\\hat{A} = \\underset{\\mathbf{A}>\\mathbf{0}, \\mathbf{1}_{P}^T \\mathbf{A} = \\mathbf{1}_{N}^{T} }{\\textrm{arg min}}\\frac{1}{2}||\\mathbf{X}-\\mathbf{SA}||_{F}^{2} = \\underset{\\mathbf{A}>\\mathbf{0}, \\mathbf{1}_{P}^T \\mathbf{A} = \\mathbf{1}_{N}^{T} }{\\textrm{arg min}}\\frac{1}{2} \\sum_{i=1}^{N} ||\\mathbf{x}_{n}-\\mathbf{S}\\mathbf{a}_{n}||_{2}^{2}\n",
    "\\end{equation*}\n",
    "\n",
    "where $\\mathbf{1}_{.}$ is a vector of ones whose size is given in index \n",
    "\n",
    "Choose an algorithm to solve the optimization problem, and implement it both in a serial version and a version parallelized across the pixels."
   ]
  },
  {
   "cell_type": "code",
   "execution_count": null,
   "metadata": {},
   "outputs": [],
   "source": [
    "img_small = img[1:100,1:100,:]; # use a small crop of the image first\n",
    "# img_small = copy(img);"
   ]
  }
 ],
 "metadata": {
  "kernelspec": {
   "display_name": "Julia 1.2.0",
   "language": "julia",
   "name": "julia-1.2"
  },
  "language_info": {
   "file_extension": ".jl",
   "mimetype": "application/julia",
   "name": "julia",
   "version": "1.2.0"
  },
  "latex_envs": {
   "LaTeX_envs_menu_present": true,
   "autoclose": false,
   "autocomplete": true,
   "bibliofile": "biblio.bib",
   "cite_by": "apalike",
   "current_citInitial": 1,
   "eqLabelWithNumbers": true,
   "eqNumInitial": 1,
   "hotkeys": {
    "equation": "Ctrl-E",
    "itemize": "Ctrl-I"
   },
   "labels_anchors": false,
   "latex_user_defs": false,
   "report_style_numbering": false,
   "user_envs_cfg": false
  }
 },
 "nbformat": 4,
 "nbformat_minor": 2
}
